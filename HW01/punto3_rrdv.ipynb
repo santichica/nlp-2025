{
 "cells": [
  {
   "cell_type": "markdown",
   "id": "3de5c652",
   "metadata": {},
   "source": [
    "# Recuperación ranqueada y vectorización de documentos (RRDV)"
   ]
  },
  {
   "cell_type": "code",
   "execution_count": 78,
   "id": "047ff9d7",
   "metadata": {},
   "outputs": [],
   "source": [
    "# Librerías necesarias para importar codigo de otros notebooks. Correr con ! antes de pip install.\n",
    "# pip install nbformat"
   ]
  },
  {
   "cell_type": "code",
   "execution_count": 79,
   "id": "5de6c0df",
   "metadata": {},
   "outputs": [],
   "source": [
    "import nbimporter\n",
    "from punto2_bsii import parse_naf_document, ingest_naf_documents, preprocess_text, build_inverted_index\n",
    "import pandas as pd\n",
    "import numpy as np"
   ]
  },
  {
   "cell_type": "markdown",
   "id": "4ed4df8f",
   "metadata": {},
   "source": [
    "### Constantes"
   ]
  },
  {
   "cell_type": "markdown",
   "id": "80852e7e",
   "metadata": {},
   "source": [
    "**Acá se deben cambiar los paths a las carpetas docs-raw-texts y queries-raw-texts**"
   ]
  },
  {
   "cell_type": "code",
   "execution_count": 80,
   "id": "886efb21",
   "metadata": {},
   "outputs": [],
   "source": [
    "DOCS_RAW_DIRECTORY_PATH = \"./docs-raw-texts/\"\n",
    "QUERIES_DIRECTORY_PATH = \"./queries-raw-texts/\""
   ]
  },
  {
   "cell_type": "markdown",
   "id": "fc2641c2",
   "metadata": {},
   "source": [
    "**[10p] Cree una función que, a partir del índice invertido, cree la representación vectorial ponderada tf.idf\n",
    "de un documento o consulta. Describa en detalle su estrategia, ¿es eficiente? ¿por qué si, por qué no?**"
   ]
  },
  {
   "cell_type": "markdown",
   "id": "e0c14421",
   "metadata": {},
   "source": [
    "Inicialmente se cargan y preprocesan los documentos, luego se crea el índice invertido usando la función *build_inverted_index* del notebook `punto2_bsii.ipynb`."
   ]
  },
  {
   "cell_type": "code",
   "execution_count": 81,
   "id": "ec358079",
   "metadata": {},
   "outputs": [
    {
     "name": "stderr",
     "output_type": "stream",
     "text": [
      "punto2_bsii.ipynb:18: FutureWarning: DataFrameGroupBy.apply operated on the grouping columns. This behavior is deprecated, and in a future version of pandas the grouping columns will be excluded from the operation. Either pass `include_groups=False` to exclude the groupings or explicitly select the grouping columns after groupby to silence this warning.\n",
      "  \"metadata\": {},\n"
     ]
    }
   ],
   "source": [
    "\n",
    "DOCS_RAW_DIRECTORY_PATH = \"./docs-raw-texts/\"\n",
    "df_documents = ingest_naf_documents(DOCS_RAW_DIRECTORY_PATH)\n",
    "df_documents['tokens'] = df_documents['raw_text'].apply(lambda x: preprocess_text(x, language='english'))\n",
    "\n",
    "inverted_index = build_inverted_index(df_documents, id_col='ID', tokens_col='tokens')"
   ]
  },
  {
   "cell_type": "code",
   "execution_count": 82,
   "id": "20989780",
   "metadata": {},
   "outputs": [
    {
     "data": {
      "text/html": [
       "<div>\n",
       "<style scoped>\n",
       "    .dataframe tbody tr th:only-of-type {\n",
       "        vertical-align: middle;\n",
       "    }\n",
       "\n",
       "    .dataframe tbody tr th {\n",
       "        vertical-align: top;\n",
       "    }\n",
       "\n",
       "    .dataframe thead th {\n",
       "        text-align: right;\n",
       "    }\n",
       "</style>\n",
       "<table border=\"1\" class=\"dataframe\">\n",
       "  <thead>\n",
       "    <tr style=\"text-align: right;\">\n",
       "      <th></th>\n",
       "      <th>term</th>\n",
       "      <th>postings</th>\n",
       "      <th>doc_freq</th>\n",
       "      <th>term_freqs</th>\n",
       "    </tr>\n",
       "  </thead>\n",
       "  <tbody>\n",
       "    <tr>\n",
       "      <th>0</th>\n",
       "      <td>a</td>\n",
       "      <td>[d102, d035, d116, d071, d250, d114, d156, d18...</td>\n",
       "      <td>129</td>\n",
       "      <td>{'d003': 2, 'd004': 1, 'd006': 1, 'd011': 1, '...</td>\n",
       "    </tr>\n",
       "    <tr>\n",
       "      <th>1</th>\n",
       "      <td>aachen</td>\n",
       "      <td>[d252, d139, d161]</td>\n",
       "      <td>3</td>\n",
       "      <td>{'d139': 1, 'd161': 2, 'd252': 1}</td>\n",
       "    </tr>\n",
       "    <tr>\n",
       "      <th>2</th>\n",
       "      <td>aazv</td>\n",
       "      <td>[d156]</td>\n",
       "      <td>1</td>\n",
       "      <td>{'d156': 1}</td>\n",
       "    </tr>\n",
       "    <tr>\n",
       "      <th>3</th>\n",
       "      <td>ab</td>\n",
       "      <td>[d224]</td>\n",
       "      <td>1</td>\n",
       "      <td>{'d224': 1}</td>\n",
       "    </tr>\n",
       "    <tr>\n",
       "      <th>4</th>\n",
       "      <td>abadon</td>\n",
       "      <td>[d062]</td>\n",
       "      <td>1</td>\n",
       "      <td>{'d062': 1}</td>\n",
       "    </tr>\n",
       "  </tbody>\n",
       "</table>\n",
       "</div>"
      ],
      "text/plain": [
       "     term                                           postings  doc_freq  \\\n",
       "0       a  [d102, d035, d116, d071, d250, d114, d156, d18...       129   \n",
       "1  aachen                                 [d252, d139, d161]         3   \n",
       "2    aazv                                             [d156]         1   \n",
       "3      ab                                             [d224]         1   \n",
       "4  abadon                                             [d062]         1   \n",
       "\n",
       "                                          term_freqs  \n",
       "0  {'d003': 2, 'd004': 1, 'd006': 1, 'd011': 1, '...  \n",
       "1                  {'d139': 1, 'd161': 2, 'd252': 1}  \n",
       "2                                        {'d156': 1}  \n",
       "3                                        {'d224': 1}  \n",
       "4                                        {'d062': 1}  "
      ]
     },
     "execution_count": 82,
     "metadata": {},
     "output_type": "execute_result"
    }
   ],
   "source": [
    "# Se muestran las primeras filas del índice invertido\n",
    "inverted_index.head()"
   ]
  },
  {
   "cell_type": "code",
   "execution_count": 83,
   "id": "d486a6c8",
   "metadata": {},
   "outputs": [],
   "source": [
    "def compute_tfidf_matrix_terms_docs(df_documents: pd.DataFrame, inverted_index: pd.DataFrame) -> pd.DataFrame:\n",
    "    \"\"\"\n",
    "    Calcula la matriz tf-idf con filas=terminos y columnas=documentos usando la fórmula:\n",
    "    w_{t,d} = log10(1 + tf_{t,d}) * log10(N / df_t)\n",
    "    Donde tf_{t,d} es la frecuencia del término t en el documento d,\n",
    "    df_t es la frecuencia de documentos que contienen el término t,\n",
    "    y N es el número total de documentos.\n",
    "    Args:\n",
    "        df_documents: DataFrame con los documentos y columna 'tokens'.\n",
    "        inverted_index: DataFrame del índice invertido con 'term_freqs'.\n",
    "    Returns:\n",
    "        DataFrame: matriz tf-idf (filas=terminos, columnas=doc_id)\n",
    "    \"\"\"\n",
    "    N_docs = len(df_documents)\n",
    "    terms = inverted_index['term'].tolist()\n",
    "    doc_ids = df_documents['ID'].tolist()\n",
    "    tfidf_matrix = pd.DataFrame(0.0, index=terms, columns=doc_ids)\n",
    "\n",
    "    for idx, row in inverted_index.iterrows():\n",
    "        term = row['term']\n",
    "        df = row['doc_freq']\n",
    "        idf = np.log10(N_docs / df) if df > 0 else 0\n",
    "        term_freqs = row['term_freqs']  # dict {doc_id: freq}\n",
    "        for doc_id, tf in term_freqs.items():\n",
    "            tf_weight = np.log10(1 + tf)\n",
    "            tfidf_matrix.at[term, doc_id] = tf_weight * idf\n",
    "\n",
    "    return tfidf_matrix\n",
    "\n"
   ]
  },
  {
   "cell_type": "markdown",
   "id": "37673cb0",
   "metadata": {},
   "source": [
    "Se aplica la función *compute_tfidf_matrix_terms_docs* usando el índice invertido computado previamente y el dataframe con la frecuencia por documento."
   ]
  },
  {
   "cell_type": "code",
   "execution_count": 84,
   "id": "5c2f771e",
   "metadata": {},
   "outputs": [
    {
     "data": {
      "text/html": [
       "<div>\n",
       "<style scoped>\n",
       "    .dataframe tbody tr th:only-of-type {\n",
       "        vertical-align: middle;\n",
       "    }\n",
       "\n",
       "    .dataframe tbody tr th {\n",
       "        vertical-align: top;\n",
       "    }\n",
       "\n",
       "    .dataframe thead th {\n",
       "        text-align: right;\n",
       "    }\n",
       "</style>\n",
       "<table border=\"1\" class=\"dataframe\">\n",
       "  <thead>\n",
       "    <tr style=\"text-align: right;\">\n",
       "      <th></th>\n",
       "      <th>d102</th>\n",
       "      <th>d035</th>\n",
       "      <th>d321</th>\n",
       "      <th>d094</th>\n",
       "      <th>d014</th>\n",
       "      <th>d143</th>\n",
       "      <th>d116</th>\n",
       "      <th>d088</th>\n",
       "      <th>d308</th>\n",
       "      <th>d319</th>\n",
       "      <th>...</th>\n",
       "      <th>d318</th>\n",
       "      <th>d329</th>\n",
       "      <th>d153</th>\n",
       "      <th>d128</th>\n",
       "      <th>d172</th>\n",
       "      <th>d098</th>\n",
       "      <th>d043</th>\n",
       "      <th>d208</th>\n",
       "      <th>d261</th>\n",
       "      <th>d236</th>\n",
       "    </tr>\n",
       "  </thead>\n",
       "  <tbody>\n",
       "    <tr>\n",
       "      <th>a</th>\n",
       "      <td>0.123193</td>\n",
       "      <td>0.123193</td>\n",
       "      <td>0.0</td>\n",
       "      <td>0.0</td>\n",
       "      <td>0.0</td>\n",
       "      <td>0.0</td>\n",
       "      <td>0.195256</td>\n",
       "      <td>0.0</td>\n",
       "      <td>0.0</td>\n",
       "      <td>0.0</td>\n",
       "      <td>...</td>\n",
       "      <td>0.0</td>\n",
       "      <td>0.0</td>\n",
       "      <td>0.123193</td>\n",
       "      <td>0.0</td>\n",
       "      <td>0.123193</td>\n",
       "      <td>0.123193</td>\n",
       "      <td>0.123193</td>\n",
       "      <td>0.123193</td>\n",
       "      <td>0.0</td>\n",
       "      <td>0.0</td>\n",
       "    </tr>\n",
       "    <tr>\n",
       "      <th>aachen</th>\n",
       "      <td>0.000000</td>\n",
       "      <td>0.000000</td>\n",
       "      <td>0.0</td>\n",
       "      <td>0.0</td>\n",
       "      <td>0.0</td>\n",
       "      <td>0.0</td>\n",
       "      <td>0.000000</td>\n",
       "      <td>0.0</td>\n",
       "      <td>0.0</td>\n",
       "      <td>0.0</td>\n",
       "      <td>...</td>\n",
       "      <td>0.0</td>\n",
       "      <td>0.0</td>\n",
       "      <td>0.000000</td>\n",
       "      <td>0.0</td>\n",
       "      <td>0.000000</td>\n",
       "      <td>0.000000</td>\n",
       "      <td>0.000000</td>\n",
       "      <td>0.000000</td>\n",
       "      <td>0.0</td>\n",
       "      <td>0.0</td>\n",
       "    </tr>\n",
       "    <tr>\n",
       "      <th>aazv</th>\n",
       "      <td>0.000000</td>\n",
       "      <td>0.000000</td>\n",
       "      <td>0.0</td>\n",
       "      <td>0.0</td>\n",
       "      <td>0.0</td>\n",
       "      <td>0.0</td>\n",
       "      <td>0.000000</td>\n",
       "      <td>0.0</td>\n",
       "      <td>0.0</td>\n",
       "      <td>0.0</td>\n",
       "      <td>...</td>\n",
       "      <td>0.0</td>\n",
       "      <td>0.0</td>\n",
       "      <td>0.000000</td>\n",
       "      <td>0.0</td>\n",
       "      <td>0.000000</td>\n",
       "      <td>0.000000</td>\n",
       "      <td>0.000000</td>\n",
       "      <td>0.000000</td>\n",
       "      <td>0.0</td>\n",
       "      <td>0.0</td>\n",
       "    </tr>\n",
       "    <tr>\n",
       "      <th>ab</th>\n",
       "      <td>0.000000</td>\n",
       "      <td>0.000000</td>\n",
       "      <td>0.0</td>\n",
       "      <td>0.0</td>\n",
       "      <td>0.0</td>\n",
       "      <td>0.0</td>\n",
       "      <td>0.000000</td>\n",
       "      <td>0.0</td>\n",
       "      <td>0.0</td>\n",
       "      <td>0.0</td>\n",
       "      <td>...</td>\n",
       "      <td>0.0</td>\n",
       "      <td>0.0</td>\n",
       "      <td>0.000000</td>\n",
       "      <td>0.0</td>\n",
       "      <td>0.000000</td>\n",
       "      <td>0.000000</td>\n",
       "      <td>0.000000</td>\n",
       "      <td>0.000000</td>\n",
       "      <td>0.0</td>\n",
       "      <td>0.0</td>\n",
       "    </tr>\n",
       "    <tr>\n",
       "      <th>abadon</th>\n",
       "      <td>0.000000</td>\n",
       "      <td>0.000000</td>\n",
       "      <td>0.0</td>\n",
       "      <td>0.0</td>\n",
       "      <td>0.0</td>\n",
       "      <td>0.0</td>\n",
       "      <td>0.000000</td>\n",
       "      <td>0.0</td>\n",
       "      <td>0.0</td>\n",
       "      <td>0.0</td>\n",
       "      <td>...</td>\n",
       "      <td>0.0</td>\n",
       "      <td>0.0</td>\n",
       "      <td>0.000000</td>\n",
       "      <td>0.0</td>\n",
       "      <td>0.000000</td>\n",
       "      <td>0.000000</td>\n",
       "      <td>0.000000</td>\n",
       "      <td>0.000000</td>\n",
       "      <td>0.0</td>\n",
       "      <td>0.0</td>\n",
       "    </tr>\n",
       "  </tbody>\n",
       "</table>\n",
       "<p>5 rows × 331 columns</p>\n",
       "</div>"
      ],
      "text/plain": [
       "            d102      d035  d321  d094  d014  d143      d116  d088  d308  \\\n",
       "a       0.123193  0.123193   0.0   0.0   0.0   0.0  0.195256   0.0   0.0   \n",
       "aachen  0.000000  0.000000   0.0   0.0   0.0   0.0  0.000000   0.0   0.0   \n",
       "aazv    0.000000  0.000000   0.0   0.0   0.0   0.0  0.000000   0.0   0.0   \n",
       "ab      0.000000  0.000000   0.0   0.0   0.0   0.0  0.000000   0.0   0.0   \n",
       "abadon  0.000000  0.000000   0.0   0.0   0.0   0.0  0.000000   0.0   0.0   \n",
       "\n",
       "        d319  ...  d318  d329      d153  d128      d172      d098      d043  \\\n",
       "a        0.0  ...   0.0   0.0  0.123193   0.0  0.123193  0.123193  0.123193   \n",
       "aachen   0.0  ...   0.0   0.0  0.000000   0.0  0.000000  0.000000  0.000000   \n",
       "aazv     0.0  ...   0.0   0.0  0.000000   0.0  0.000000  0.000000  0.000000   \n",
       "ab       0.0  ...   0.0   0.0  0.000000   0.0  0.000000  0.000000  0.000000   \n",
       "abadon   0.0  ...   0.0   0.0  0.000000   0.0  0.000000  0.000000  0.000000   \n",
       "\n",
       "            d208  d261  d236  \n",
       "a       0.123193   0.0   0.0  \n",
       "aachen  0.000000   0.0   0.0  \n",
       "aazv    0.000000   0.0   0.0  \n",
       "ab      0.000000   0.0   0.0  \n",
       "abadon  0.000000   0.0   0.0  \n",
       "\n",
       "[5 rows x 331 columns]"
      ]
     },
     "execution_count": 84,
     "metadata": {},
     "output_type": "execute_result"
    }
   ],
   "source": [
    "tfidf_matrix_terms_docs = compute_tfidf_matrix_terms_docs(df_documents, inverted_index)\n",
    "tfidf_matrix_terms_docs.head()"
   ]
  },
  {
   "cell_type": "markdown",
   "id": "22c5e0f6",
   "metadata": {},
   "source": [
    "**[10p] Cree una función que reciba dos vectores de documentos y calcule la similitud del coseno**"
   ]
  },
  {
   "cell_type": "markdown",
   "id": "3f68383e",
   "metadata": {},
   "source": [
    "Se construye una implementación para comparar dos vectores, también se realiza una implementación para comparar un vector de consultas con una matriz tf_idf."
   ]
  },
  {
   "cell_type": "code",
   "execution_count": 85,
   "id": "5a504a11",
   "metadata": {},
   "outputs": [],
   "source": [
    "def cosine_similarity(vec1, vec2):\n",
    "    \"\"\"\n",
    "    Calcula la similitud del coseno entre dos vectores usando numpy.\n",
    "    Args:\n",
    "        vec1: numpy array o pandas Series.\n",
    "        vec2: numpy array o pandas Series.\n",
    "    Returns:\n",
    "        float: similitud del coseno (entre 0 y 1).\n",
    "    \"\"\"\n",
    "    vec1 = np.array(vec1)\n",
    "    vec2 = np.array(vec2)\n",
    "    dot_product = np.dot(vec1, vec2)\n",
    "    norm1 = np.linalg.norm(vec1)\n",
    "    norm2 = np.linalg.norm(vec2)\n",
    "    if norm1 == 0 or norm2 == 0:\n",
    "        return 0.0\n",
    "    return dot_product / (norm1 * norm2)"
   ]
  },
  {
   "cell_type": "code",
   "execution_count": 86,
   "id": "07380766",
   "metadata": {},
   "outputs": [],
   "source": [
    "def cosine_similarity_matrix(query_vec, doc_matrix):\n",
    "    \"\"\"\n",
    "    Calcula la similitud del coseno entre un vector de consulta y todos los vectores de documentos.\n",
    "    Args:\n",
    "        query_vec: numpy array (shape: n_terms,)\n",
    "        doc_matrix: numpy array (shape: n_terms, n_docs)\n",
    "    Returns:\n",
    "        numpy array (shape: n_docs,) con las similitudes.\n",
    "    \"\"\"\n",
    "    dot_products = np.dot(query_vec, doc_matrix)\n",
    "    doc_norms = np.linalg.norm(doc_matrix, axis=0)\n",
    "    query_norm = np.linalg.norm(query_vec)\n",
    "    # Evita división por cero\n",
    "    with np.errstate(divide='ignore', invalid='ignore'):\n",
    "        sims = np.where((doc_norms > 0) & (query_norm > 0),\n",
    "                        dot_products / (doc_norms * query_norm), 0.0)\n",
    "    return sims"
   ]
  },
  {
   "cell_type": "markdown",
   "id": "cb3ccea0",
   "metadata": {},
   "source": [
    "**[5p] Para cada una de las 35 consultas en el conjunto de datos, recupere los documentos clasificados -\n",
    "ordenados por el puntaje de similitud del coseno- (incluya solo los documentos con un puntaje superior a 0\n",
    "para una consulta determinada).**"
   ]
  },
  {
   "cell_type": "markdown",
   "id": "209637c4",
   "metadata": {},
   "source": [
    "#### 1. Extraer las queries"
   ]
  },
  {
   "cell_type": "markdown",
   "id": "43422880",
   "metadata": {},
   "source": [
    "La ingesta de los documentos NAF con queries se hace reutilizando la función *ingest_naf_documents*. Se organizan las consultas por ID, de forma ascendente."
   ]
  },
  {
   "cell_type": "code",
   "execution_count": 87,
   "id": "9829f599",
   "metadata": {},
   "outputs": [],
   "source": [
    "def ingest_queries(directory):\n",
    "    df_queries = ingest_naf_documents(directory)\n",
    "    return df_queries[['ID', 'raw_text']]\n",
    "\n",
    "df_queries = ingest_queries(QUERIES_DIRECTORY_PATH)\n",
    "df_queries = df_queries.sort_values('ID')"
   ]
  },
  {
   "cell_type": "markdown",
   "id": "6c18b3e3",
   "metadata": {},
   "source": [
    "#### 2. Calcular similitud coseno"
   ]
  },
  {
   "cell_type": "markdown",
   "id": "5c1b7a63",
   "metadata": {},
   "source": [
    "Para calcular la similitud coseno, Para calcular la similitud coseno, se tiene en cuenta las siguientes optimizaciones:\n",
    "\n",
    "- Cálculo simultáneo de similitudes: La similitud coseno entre la consulta y todos los documentos se calcula en una sola operación usando la función *cosine_similarity_matrix*, evitando bucles innecesarios y aprovechando la eficiencia de las operaciones matriciales.\n",
    "- Se utilizan diccionarios en Python para acceder rápidamente a la información de relevancia de cada documento. El método get() de los diccionarios permite consultar si un documento es relevante para una consulta específica de forma eficiente y segura, permitiendo acceder en tiempo constante `(O(1))` a la relevancia de cada documento dado su ID. Esto evita recorridos innecesarios sobre la totalidad de la matriz."
   ]
  },
  {
   "cell_type": "code",
   "execution_count": 88,
   "id": "d974673b",
   "metadata": {},
   "outputs": [],
   "source": [
    "tfidf_matrix_terms_docs = compute_tfidf_matrix_terms_docs(df_documents, inverted_index)"
   ]
  },
  {
   "cell_type": "code",
   "execution_count": 89,
   "id": "fe3d5d99",
   "metadata": {},
   "outputs": [],
   "source": [
    "term_to_idx = {term: i for i, term in enumerate(tfidf_matrix_terms_docs.index)}"
   ]
  },
  {
   "cell_type": "code",
   "execution_count": 90,
   "id": "5c816862",
   "metadata": {},
   "outputs": [
    {
     "data": {
      "text/html": [
       "<div>\n",
       "<style scoped>\n",
       "    .dataframe tbody tr th:only-of-type {\n",
       "        vertical-align: middle;\n",
       "    }\n",
       "\n",
       "    .dataframe tbody tr th {\n",
       "        vertical-align: top;\n",
       "    }\n",
       "\n",
       "    .dataframe thead th {\n",
       "        text-align: right;\n",
       "    }\n",
       "</style>\n",
       "<table border=\"1\" class=\"dataframe\">\n",
       "  <thead>\n",
       "    <tr style=\"text-align: right;\">\n",
       "      <th></th>\n",
       "      <th>term</th>\n",
       "      <th>postings</th>\n",
       "      <th>doc_freq</th>\n",
       "      <th>term_freqs</th>\n",
       "    </tr>\n",
       "  </thead>\n",
       "  <tbody>\n",
       "    <tr>\n",
       "      <th>0</th>\n",
       "      <td>a</td>\n",
       "      <td>[d102, d035, d116, d071, d250, d114, d156, d18...</td>\n",
       "      <td>129</td>\n",
       "      <td>{'d003': 2, 'd004': 1, 'd006': 1, 'd011': 1, '...</td>\n",
       "    </tr>\n",
       "    <tr>\n",
       "      <th>1</th>\n",
       "      <td>aachen</td>\n",
       "      <td>[d252, d139, d161]</td>\n",
       "      <td>3</td>\n",
       "      <td>{'d139': 1, 'd161': 2, 'd252': 1}</td>\n",
       "    </tr>\n",
       "    <tr>\n",
       "      <th>2</th>\n",
       "      <td>aazv</td>\n",
       "      <td>[d156]</td>\n",
       "      <td>1</td>\n",
       "      <td>{'d156': 1}</td>\n",
       "    </tr>\n",
       "    <tr>\n",
       "      <th>3</th>\n",
       "      <td>ab</td>\n",
       "      <td>[d224]</td>\n",
       "      <td>1</td>\n",
       "      <td>{'d224': 1}</td>\n",
       "    </tr>\n",
       "    <tr>\n",
       "      <th>4</th>\n",
       "      <td>abadon</td>\n",
       "      <td>[d062]</td>\n",
       "      <td>1</td>\n",
       "      <td>{'d062': 1}</td>\n",
       "    </tr>\n",
       "    <tr>\n",
       "      <th>...</th>\n",
       "      <td>...</td>\n",
       "      <td>...</td>\n",
       "      <td>...</td>\n",
       "      <td>...</td>\n",
       "    </tr>\n",
       "    <tr>\n",
       "      <th>12767</th>\n",
       "      <td>zurich</td>\n",
       "      <td>[d014, d143, d113, d112, d030, d047, d059, d21...</td>\n",
       "      <td>11</td>\n",
       "      <td>{'d014': 2, 'd030': 2, 'd047': 2, 'd059': 1, '...</td>\n",
       "    </tr>\n",
       "    <tr>\n",
       "      <th>12768</th>\n",
       "      <td>zuse</td>\n",
       "      <td>[d211, d202]</td>\n",
       "      <td>2</td>\n",
       "      <td>{'d202': 1, 'd211': 20}</td>\n",
       "    </tr>\n",
       "    <tr>\n",
       "      <th>12769</th>\n",
       "      <td>zwicki</td>\n",
       "      <td>[d253]</td>\n",
       "      <td>1</td>\n",
       "      <td>{'d253': 17}</td>\n",
       "    </tr>\n",
       "    <tr>\n",
       "      <th>12770</th>\n",
       "      <td>zworykin</td>\n",
       "      <td>[d071, d068]</td>\n",
       "      <td>2</td>\n",
       "      <td>{'d068': 1, 'd071': 4}</td>\n",
       "    </tr>\n",
       "    <tr>\n",
       "      <th>12771</th>\n",
       "      <td>zygmunt</td>\n",
       "      <td>[d286]</td>\n",
       "      <td>1</td>\n",
       "      <td>{'d286': 1}</td>\n",
       "    </tr>\n",
       "  </tbody>\n",
       "</table>\n",
       "<p>12772 rows × 4 columns</p>\n",
       "</div>"
      ],
      "text/plain": [
       "           term                                           postings  doc_freq  \\\n",
       "0             a  [d102, d035, d116, d071, d250, d114, d156, d18...       129   \n",
       "1        aachen                                 [d252, d139, d161]         3   \n",
       "2          aazv                                             [d156]         1   \n",
       "3            ab                                             [d224]         1   \n",
       "4        abadon                                             [d062]         1   \n",
       "...         ...                                                ...       ...   \n",
       "12767    zurich  [d014, d143, d113, d112, d030, d047, d059, d21...        11   \n",
       "12768      zuse                                       [d211, d202]         2   \n",
       "12769    zwicki                                             [d253]         1   \n",
       "12770  zworykin                                       [d071, d068]         2   \n",
       "12771   zygmunt                                             [d286]         1   \n",
       "\n",
       "                                              term_freqs  \n",
       "0      {'d003': 2, 'd004': 1, 'd006': 1, 'd011': 1, '...  \n",
       "1                      {'d139': 1, 'd161': 2, 'd252': 1}  \n",
       "2                                            {'d156': 1}  \n",
       "3                                            {'d224': 1}  \n",
       "4                                            {'d062': 1}  \n",
       "...                                                  ...  \n",
       "12767  {'d014': 2, 'd030': 2, 'd047': 2, 'd059': 1, '...  \n",
       "12768                            {'d202': 1, 'd211': 20}  \n",
       "12769                                       {'d253': 17}  \n",
       "12770                             {'d068': 1, 'd071': 4}  \n",
       "12771                                        {'d286': 1}  \n",
       "\n",
       "[12772 rows x 4 columns]"
      ]
     },
     "execution_count": 90,
     "metadata": {},
     "output_type": "execute_result"
    }
   ],
   "source": [
    "inverted_index"
   ]
  },
  {
   "cell_type": "code",
   "execution_count": 91,
   "id": "d6b13b6b",
   "metadata": {},
   "outputs": [],
   "source": [
    "tfidf_matrix_terms_docs = compute_tfidf_matrix_terms_docs(df_documents, inverted_index)\n",
    "term_to_idx = {term: i for i, term in enumerate(tfidf_matrix_terms_docs.index)}\n",
    "doc_ids = tfidf_matrix_terms_docs.columns.tolist()\n",
    "tfidf_matrix_np = tfidf_matrix_terms_docs.values  # (n_terms, n_docs)\n",
    "N_docs = len(df_documents)\n",
    "\n",
    "results = []\n",
    "for _, row in df_queries.iterrows():\n",
    "    query_id = row['ID']\n",
    "    query_text = row['raw_text']\n",
    "    query_tokens = preprocess_text(query_text, language='english')\n",
    "    tf_counts = pd.Series(query_tokens).value_counts()\n",
    "    query_vec = np.zeros(len(term_to_idx))\n",
    "    # Solo llena los términos presentes en la consulta\n",
    "    for term, tf in tf_counts.items():\n",
    "        idx = term_to_idx.get(term)\n",
    "        if idx is not None:\n",
    "            idx_row = inverted_index[inverted_index['term'] == term]\n",
    "            if not idx_row.empty:\n",
    "                df = idx_row.iloc[0]['doc_freq']\n",
    "                idf = np.log10(N_docs / df) if df > 0 else 0\n",
    "                tf_weight = np.log10(1 + tf)\n",
    "                query_vec[idx] = tf_weight * idf\n",
    "    # Vectorizado: calcula todas las similitudes de una vez\n",
    "    sims = cosine_similarity_matrix(query_vec, tfidf_matrix_np)\n",
    "    sim_scores = [(doc_ids[i], sims[i]) for i in range(len(doc_ids)) if sims[i] > 0]\n",
    "    sim_scores.sort(key=lambda x: x[1], reverse=True)\n",
    "    sim_str = \",\".join([f\"{doc}:{score:.4f}\" for doc, score in sim_scores])\n",
    "    line = f\"{query_id}\\t{sim_str}\"\n",
    "    results.append(line)\n",
    "\n",
    "with open(\"resultados/RRDV-consultas_resultados.tsv\", \"w\") as f:\n",
    "    for line in results:\n",
    "        f.write(line + \"\\n\")"
   ]
  },
  {
   "cell_type": "markdown",
   "id": "2b87a180",
   "metadata": {},
   "source": [
    "[10p] Evaluación de resultados. Calcule P@M, R@M, NDCG@M por consulta. M es el número de\n",
    "documentos relevantes encontrados en el archivo de juicios de relevancia por consulta. Luego calcule MAP\n",
    "como una métrica general.\n",
    "\n",
    "NOTA I: Para P@M y R@M suponga una escala de relevancia binaria. Los documentos que no se\n",
    "encuentran en el archivo \"relevance-judgments\" NO son relevantes para una consulta determinada.\n",
    "\n",
    "NOTA II: Para NDCG@M utilice la escala de relevancia no binaria que se encuentra en el archivo\n",
    "\"relevance-judgments\"."
   ]
  },
  {
   "cell_type": "markdown",
   "id": "68ef504f",
   "metadata": {},
   "source": [
    "#### Extracción de documento con relevance judgements e importar funciones para calcular las métricas"
   ]
  },
  {
   "cell_type": "code",
   "execution_count": 92,
   "id": "e613f939",
   "metadata": {},
   "outputs": [],
   "source": [
    "from punto1_metricas import precision_at_k, recall_at_k, ndcg_at_k, mean_average_precision"
   ]
  },
  {
   "cell_type": "code",
   "execution_count": 93,
   "id": "acf5d4fa",
   "metadata": {},
   "outputs": [],
   "source": [
    "relevance_df = pd.read_csv(\"relevance-judgments.tsv\", sep=\"\\t\", names=[\"query_id\", \"docs_relevance\"])\n",
    "\n",
    "# Procesar relevancia: {query_id: {doc_id: grado}}\n",
    "relevance_dict = {}\n",
    "for _, row in relevance_df.iterrows():\n",
    "    qid = row[\"query_id\"]\n",
    "    docs_str = str(row[\"docs_relevance\"])\n",
    "    docs = docs_str.split(\",\")\n",
    "    doc_rel = {}\n",
    "    for d in docs:\n",
    "        if \":\" in d:\n",
    "            doc_id, rel = d.split(\":\")\n",
    "            doc_rel[doc_id] = int(rel)\n",
    "    relevance_dict[qid] = doc_rel"
   ]
  },
  {
   "cell_type": "code",
   "execution_count": 94,
   "id": "412a9353",
   "metadata": {},
   "outputs": [
    {
     "name": "stdout",
     "output_type": "stream",
     "text": [
      "Ver formato de relevance_dict:\n",
      "q01 {'d186': 4, 'd254': 5, 'd016': 5}\n",
      "q02 {'d136': 2, 'd139': 2, 'd143': 4, 'd283': 4, 'd228': 4, 'd164': 4, 'd318': 2, 'd291': 4, 'd293': 4, 'd147': 2, 'd149': 2}\n",
      "q03 {'d152': 3, 'd291': 4, 'd283': 4, 'd147': 3, 'd318': 2, 'd105': 2}\n"
     ]
    }
   ],
   "source": [
    "print(\"Ver formato de relevance_dict:\")\n",
    "for idx in ('q01', 'q02', 'q03'):\n",
    "    print(idx, relevance_dict[idx])"
   ]
  },
  {
   "cell_type": "markdown",
   "id": "0f0b0dac",
   "metadata": {},
   "source": [
    "Se leen los resultados generados."
   ]
  },
  {
   "cell_type": "code",
   "execution_count": null,
   "id": "ccb18e93",
   "metadata": {},
   "outputs": [],
   "source": [
    "with open(\"resultados/RRDV-consultas_resultados.tsv\") as f:\n",
    "    lines = f.readlines()"
   ]
  },
  {
   "cell_type": "markdown",
   "id": "b96d68df",
   "metadata": {},
   "source": [
    "Para cada consulta, se extraen los documentos recuperados y sus scores.\n",
    "Luego, se construyen dos vectores de relevancia:\n",
    "- Un vector binario para calcular P@M y R@M, donde 1 indica un documento relevante.\n",
    "- Un vector con los grados de relevancia para calcular NDCG@M.\n",
    "\n",
    "Con estos vectores, se calculan las métricas P@M, R@M y NDCG@M. Al final, se calcula MAP general."
   ]
  },
  {
   "cell_type": "code",
   "execution_count": null,
   "id": "d1bce4a8",
   "metadata": {},
   "outputs": [],
   "source": [
    "p_at_m_list = []\n",
    "r_at_m_list = []\n",
    "ndcg_at_m_list = []\n",
    "ap_vectors = []\n",
    "for line in lines:\n",
    "    query_id, docs_str = line.strip().split(\"\\t\")\n",
    "    docs_scores = [d.split(\":\") for d in docs_str.split(\",\") if \":\" in d]\n",
    "    ranked_doc_ids = [doc for doc, _ in docs_scores]\n",
    "    # Vector binario de relevancia para P@M y R@M\n",
    "    rel_vector_bin = [1 if doc in relevance_dict.get(query_id, {}) and relevance_dict[query_id][doc] > 0 else 0 for doc in ranked_doc_ids]\n",
    "    # Vector no binario para NDCG\n",
    "    rel_vector_full = [relevance_dict.get(query_id, {}).get(doc, 0) for doc in ranked_doc_ids]\n",
    "    M = len(relevance_dict.get(query_id, {}))  # Número de documentos relevantes para la consulta\n",
    "    if M == 0:\n",
    "        continue  # No hay relevantes para esta consulta\n",
    "    p_at_m = precision_at_k(rel_vector_bin, M)\n",
    "    r_at_m = recall_at_k(rel_vector_bin, M, M)\n",
    "    ndcg_at_m = ndcg_at_k(rel_vector_full, M)\n",
    "    p_at_m_list.append(p_at_m)\n",
    "    r_at_m_list.append(r_at_m)\n",
    "    ndcg_at_m_list.append(ndcg_at_m)\n",
    "    ap_vectors.append(rel_vector_bin)\n",
    "\n",
    "map_score = mean_average_precision(ap_vectors)"
   ]
  },
  {
   "cell_type": "code",
   "execution_count": 96,
   "id": "af0bec9c",
   "metadata": {},
   "outputs": [
    {
     "name": "stdout",
     "output_type": "stream",
     "text": [
      "Promedio P@M: 0.6353\n",
      "Promedio R@M: 0.6353\n",
      "Promedio NDCG@M: 0.7326\n",
      "MAP: 0.7352\n"
     ]
    }
   ],
   "source": [
    "print(f\"Promedio P@M: {sum(p_at_m_list)/len(p_at_m_list):.4f}\")\n",
    "print(f\"Promedio R@M: {sum(r_at_m_list)/len(r_at_m_list):.4f}\")\n",
    "print(f\"Promedio NDCG@M: {sum(ndcg_at_m_list)/len(ndcg_at_m_list):.4f}\")\n",
    "print(f\"MAP: {map_score:.4f}\")"
   ]
  }
 ],
 "metadata": {
  "kernelspec": {
   "display_name": "venv",
   "language": "python",
   "name": "python3"
  },
  "language_info": {
   "codemirror_mode": {
    "name": "ipython",
    "version": 3
   },
   "file_extension": ".py",
   "mimetype": "text/x-python",
   "name": "python",
   "nbconvert_exporter": "python",
   "pygments_lexer": "ipython3",
   "version": "3.9.12"
  }
 },
 "nbformat": 4,
 "nbformat_minor": 5
}
