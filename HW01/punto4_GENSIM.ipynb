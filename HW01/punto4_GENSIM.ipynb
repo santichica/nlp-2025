{
 "cells": [
  {
   "cell_type": "markdown",
   "id": "ca8fab80",
   "metadata": {},
   "source": [
    "# RRDV usando GENSIM"
   ]
  },
  {
   "cell_type": "code",
   "execution_count": null,
   "id": "3a22373d",
   "metadata": {},
   "outputs": [],
   "source": [
    "# pip install gensim"
   ]
  },
  {
   "cell_type": "code",
   "execution_count": 1,
   "id": "6df133a6",
   "metadata": {},
   "outputs": [],
   "source": [
    "import nbimporter\n",
    "from punto2_bsii import ingest_naf_documents, preprocess_text\n",
    "from gensim.utils import simple_preprocess\n",
    "from gensim import corpora, models, similarities\n",
    "import pandas as pd\n",
    "import numpy as np"
   ]
  },
  {
   "cell_type": "markdown",
   "id": "55acaf09",
   "metadata": {},
   "source": [
    "### Constantes"
   ]
  },
  {
   "cell_type": "markdown",
   "id": "5e8a8383",
   "metadata": {},
   "source": [
    "**Acá se deben cambiar los paths a las carpetas docs-raw-texts y queries-raw-texts**"
   ]
  },
  {
   "cell_type": "code",
   "execution_count": 3,
   "id": "3a724caf",
   "metadata": {},
   "outputs": [],
   "source": [
    "DOCS_RAW_DIRECTORY_PATH = \"./docs-raw-texts/\"\n",
    "QUERIES_DIRECTORY_PATH = \"./queries-raw-texts/\""
   ]
  },
  {
   "cell_type": "markdown",
   "id": "b86e5299",
   "metadata": {},
   "source": [
    "Se inicia ingestando y pre-procesando los documentos y queries, usando las funciones definidas en `punto2_bsii.ipynb`. Luego, se convierten de DataFrame a lista, para que puedan ser leídos por GENSIM."
   ]
  },
  {
   "cell_type": "code",
   "execution_count": 4,
   "id": "b687189d",
   "metadata": {},
   "outputs": [],
   "source": [
    "df_documents = ingest_naf_documents(DOCS_RAW_DIRECTORY_PATH)\n",
    "df_documents['tokens'] = df_documents['raw_text'].apply(lambda x: preprocess_text(x, language='english'))\n",
    "doc_ids = df_documents['ID'].tolist()\n",
    "docs_tokens = df_documents['tokens'].tolist()\n",
    "\n",
    "df_queries = ingest_naf_documents(QUERIES_DIRECTORY_PATH)\n",
    "df_queries['tokens'] = df_queries['raw_text'].apply(lambda x: preprocess_text(x, language='english'))\n",
    "query_ids = df_queries['ID'].tolist()\n",
    "queries_tokens = df_queries['tokens'].tolist()"
   ]
  },
  {
   "cell_type": "code",
   "execution_count": 8,
   "id": "3ceba632",
   "metadata": {},
   "outputs": [
    {
     "name": "stdout",
     "output_type": "stream",
     "text": [
      "Primeras 5 listas de tokens de documentos:\n",
      "[['william', 'makepeac', 'thackeray', 'deft', 'skewer', 'human', 'foibl', 'william', 'makepeac', 'thackeray', 'deft', 'skewer', 'human', 'foibl', 'william', 'makepeac', 'thackeray', 'on', 'juli', 'english', 'novelist', 'william', 'makepeac', 'thackeray', 'born', 'he', 'famou', 'satir', 'work', 'particularli', 'vaniti', 'fair', 'panoram', 'portrait', 'english', 'societi', 'dure', 'victorian', 'era', 'thackeray', 'rank', 'second', 'charl', 'dicken', 'much', 'less', 'read', 'known', 'almost', 'exclus', 'vaniti', 'fair', 'becom', 'standard', 'fixtur', 'univers', 'cours', 'repeatedli', 'adapt', 'movi', 'televis', 'thackeray', 'child', 'born', 'calcutta', 'india', 'father', 'richmond', 'thackeray', 'secretari', 'board', 'revenu', 'british', 'east', 'india', 'compani', 'william', 'father', 'die', 'caus', 'mother', 'ann', 'becher', 'send', 'england', 'educ', 'school', 'southampton', 'chiswick', 'charterhous', 'school', 'in', 'went', 'triniti', 'colleg', 'cambridg', 'never', 'keen', 'academ', 'studi', 'left', 'univers', 'alreadi', 'though', 'earliest', 'write', 'appear', 'univers', 'public', 'the', 'snob', 'the', 'gownsman', 'he', 'travel', 'time', 'contin', 'visit', 'pari', 'weimar', 'met', 'johann', 'wolfgang', 'von', 'goeth', 'after', 'return', 'england', 'futil', 'trial', 'studi', 'law', 'age', 'came', 'inherit', 'squander', 'much', 'gambl', 'fund', 'two', 'unsuccess', 'newspap', 'hope', 'write', 'forc', 'consid', 'profess', 'support', 'turn', 'first', 'art', 'studi', 'pari', 'pursu', 'except', 'later', 'year', 'illustr', 'novel', 'write', 'everyth', 'chang', 'marri', 'now', 'began', 'write', 'life', 'put', 'turn', 'journal', 'effort', 'support', 'young', 'famili', 'he', 'primarili', 'work', 'fraser', 'magazin', 'sharp', 'wit', 'sharp', 'tongu', 'conserv', 'public', 'produc', 'art', 'critic', 'short', 'fiction', 'sketch', 'two', 'longer', 'fiction', 'work', 'catherin', 'the', 'luck', 'barri', 'lyndon', 'explor', 'situat', 'outsid', 'tri', 'achiev', 'statu', 'high', 'societi', 'later', 'began', 'write', 'newli', 'creat', 'punch', 'magazin', 'publish', 'the', 'snob', 'paper', 'later', 'collect', 'the', 'book', 'snob', 'work', 'respons', 'modern', 'mean', 'word', 'snob', 'unfortun', 'tragedi', 'stuck', 'person', 'life', 'wife', 'becam', 'mental', 'ill', 'she', 'eventu', 'deterior', 'perman', 'state', 'detach', 'realiti', 'unawar', 'world', 'around', 'end', 'confin', 'home', 'near', 'pari', 'thackeray', 'becam', 'de', 'facto', 'widow', 'never', 'establish', 'anoth', 'perman', 'relationship', 'it', 'novel', 'vaniti', 'fair', 'a', 'novel', 'without', 'hero', 'publish', 'made', 'celebr', 'equal', 'dicken', 'in', 'novel', 'abl', 'satiris', 'whole', 'swath', 'human', 'retain', 'light', 'touch', 'it', 'also', 'featur', 'memor', 'charact', 'engagingli', 'roguish', 'becki', 'sharp', 'unlik', 'thackeray', 'novel', 'remain', 'popular', 'gener', 'read', 'public', 'hi', 'health', 'worsen', 's', 'he', 'could', 'break', 'addict', 'spici', 'pepper', 'ruin', 'digest', 'on', 'decemb', 'return', 'dine', 'dress', 'bed', 'thackeray', 'suffer', 'stroke', 'found', 'dead', 'bed', 'at', 'yovisto', 'learn', 'life', 'societi', 'victorian', 'era', 'lectur', 'prof', 'rickard', 'j', 'evan', 'gresham', 'colleg'], ['nichola', 'culpep', 'complet', 'herb', 'england', 'nichola', 'culpep', 'complet', 'herb', 'england', 'nichola', 'culpep', 'on', 'octob', 'english', 'botanist', 'herbalist', 'physician', 'astrolog', 'nichola', 'culpep', 'born', 'culpep', 'spent', 'greater', 'part', 'life', 'english', 'outdoor', 'catalog', 'hundr', 'medicin', 'herb', 'thu', 'best', 'known', 'public', 'complet', 'herbal', 'comprehens', 'list', 'english', 'medicin', 'herb', 'use', 'still', 'print', 'today', 'it', 'wide', 'believ', 'nichola', 'culpep', 'came', 'aristocrat', 'origin', 'grew', 'famili', 'own', 'land', 'privileg', 'deni', 'mani', 'year', 'culpep', 'highli', 'influenc', 'grandfath', 'reverend', 'william', 'attersol', 'known', 'intellectu', 'he', 'taught', 'grandson', 'assum', 'high', 'ambit', 'young', 'nichola', 'includ', 'send', 'cambridg', 'attersol', 'educ', 'he', 'educ', 'latin', 'well', 'greek', 'believ', 'read', 'numer', 'book', 'found', 'grandfath', 'librari', 'astrolog', 'earli', 'age', 'further', 'assum', 'also', 'discov', 'william', 'turner', 'herbal', 'appar', 'initi', 'interest', 'medicin', 'plant', 'herb', 'howev', 'culpep', 'grandfath', 'realli', 'amus', 'find', 'boy', 'interest', 'soon', 'restrict', 'read', 'bibl', 'he', 'sent', 'cambridg', 'age', 'order', 'studi', 'theolog', 'becom', 'church', 'minist', 'later', 'year', 'well', 'initi', 'plan', 'teenag', 'soon', 'decid', 'differ', 'read', 'medic', 'work', 'hippocr', 'galen', 'instead', 'on', 'day', 'culpep', 'quit', 'well', 'known', 'rebel', 'scientist', 'next', 'studi', 'appar', 'began', 'drink', 'smoke', 'compens', 'frustrat', 'grandfath', 'due', 'secret', 'relationship', 'culpep', 'heiress', 'judith', 'river', 'turn', 'quit', 'scandal', 'student', 'left', 'cambridg', 'howev', 'reverend', 'attersol', 'organ', 'apprenticeship', 'grandson', 'master', 'apothecari', 'daniel', 'white', 'soon', 'abandon', 'grandson', 'he', 'apprent', 'seven', 'year', 'catalogu', 'variou', 'medicin', 'herb', 'period', 'when', 'final', 'abl', 'abandon', 'tie', 'white', 'culpep', 'continu', 'career', 'london', 'poorer', 'area', 'soon', 'gain', 'reput', 'healer', 'poor', 'it', 'assum', 'charg', 'littl', 'noth', 'servic', 'highli', 'sympath', 'struggl', 'it', 'assum', 'culpep', 'ambit', 'reform', 'medic', 'system', 'question', 'tradit', 'method', 'explor', 'new', 'way', 'heal', 'a', 'key', 'factor', 'order', 'systemat', 'use', 'herbal', 'hi', 'focu', 'move', 'tradit', 'reason', 'began', 'combin', 'plant', 'diseas', 'hi', 'complet', 'herbal', 'known', 'great', 'influenc', 'medicin', 'western', 'world', 'the', 'success', 'also', 'due', 'fact', 'manag', 'translat', 'numer', 'document', 'discuss', 'medicin', 'plant', 'latin', 'english', 'at', 'yovisto', 'may', 'interest', 'gresham', 'video', 'lectur', 'the', 'hidden', 'face', 'british', 'garden', 'prof', 'dr', 'sir', 'roderick', 'floud'], ['aviat', 'pioneer', 'harriet', 'quimbi', 'aviat', 'pioneer', 'harriet', 'quimbi', 'harriet', 'quimbi', 'moisant', 'monoplan', 'learn', 'fli', 'imag', 'librari', 'congress', 'on', 'april', 'harriet', 'quimbi', 'becam', 'first', 'woman', 'fli', 'across', 'english', 'channel', 'she', 'first', 'woman', 'gain', 'pilot', 'licens', 'unit', 'state', 'although', 'quimbi', 'live', 'age', 'thirti', 'seven', 'major', 'influenc', 'upon', 'role', 'women', 'aviat', 'harriet', 'quimbi', 'born', 'farmer', 'famili', 'michigan', 'move', 'san', 'francisco', 'order', 'becom', 'actress', 'howev', 'quimbi', 'later', 'decid', 'becom', 'journalist', 'instead', 'continu', 'career', 'new', 'york', 'citi', 'there', 'wrote', 'often', 'lesli', 'magazin', 'quimbi', 'began', 'travel', 'earn', 'great', 'reput', 'journey', 'report', 'photograph', 'travel', 'across', 'cuba', 'europ', 'egypt', 'mexico', 'around', 'harriet', 'quimbi', 'discov', 'interest', 'fast', 'vehicl', 'work', 'vanderbilt', 'racetrack', 'soon', 'bought', 'car', 'becam', 'known', 'success', 'young', 'woman', 'travel', 'around', 'world', 'even', 'manag', 'support', 'famili', 'financi', 'it', 'assum', 'quimbi', 'interest', 'aviat', 'initi', 'visit', 'flight', 'contest', 'belmont', 'park', 'the', 'young', 'woman', 'got', 'know', 'john', 'moisant', 'back', 'popular', 'aviat', 'teacher', 'becam', 'known', 'flight', 'around', 'statu', 'liberti', 'as', 'brother', 'wright', 'take', 'femal', 'student', 'time', 'quimbi', 'pleas', 'moisant', 'agre', 'teach', 'next', 'increas', 'interest', 'flight', 'harriet', 'quimbi', 'also', 'began', 'write', 'screenplay', 'silent', 'movi', 'continu', 'journal', 'career', 'on', 'august', 'receiv', 'pilot', 'licens', 'first', 'woman', 'unit', 'state', 'in', 'lesli', 'wrote', 'adventur', 'first', 'woman', 'fli', 'mexico', 'first', 'woman', 'achiev', 'flight', 'night', 'time', 'also', 'fantas', 'futur', 'aviat', 'imagin', 'big', 'flight', 'airlin', 'would', 'carri', 'thousand', 'passeng', 'everi', 'day', 'her', 'next', 'big', 'goal', 'cross', 'english', 'channel', 'great', 'britain', 'franc', 'kept', 'plan', 'secret', 'onli', 'loui', 'bl', 'riot', 'cross', 'channel', 'direct', 'knew', 'plan', 'allow', 'quimbi', 'use', 'plane', 'the', 'highli', 'motiv', 'quimbi', 'face', 'bad', 'luck', 'april', 'gustav', 'hamel', 'took', 'eleanor', 'trehawk', 'davi', 'cross', 'channel', 'quimbi', 'could', 'first', 'woman', 'achiev', 'howev', 'continu', 'plan', 'becam', 'first', 'femal', 'pilot', 'make', 'across', 'channel', 'even', 'though', 'mani', 'came', 'applaud', 'femal', 'pilot', 'achiev', 'play', 'minor', 'role', 'media', 'sinc', 'sink', 'titan', 'occur', 'two', 'day', 'fill', 'newspap', 'back', 'after', 'quimbi', 'return', 'new', 'york', 'citi', 'plan', 'take', 'part', 'aviat', 'competit', 'on', 'juli', 'flew', 'bleriot', 'new', 'machin', 'due', 'day', 'unknown', 'error', 'pilot', 'lost', 'control', 'plane', 'passeng', 'die', 'accid', 'at', 'yovisto', 'may', 'interest', 'video', 'document', 'aviat', 'histori', 'bleriot', 'flight', 'across', 'english', 'channel'], ['the', 'play', 'georg', 'bernard', 'shaw', 'the', 'play', 'georg', 'bernard', 'shaw', 'georg', 'bernard', 'shaw', 'on', 'juli', 'irish', 'playwright', 'co', 'founder', 'london', 'school', 'econom', 'georg', 'bernard', 'shaw', 'born', 'as', 'writer', 'main', 'talent', 'drama', 'wrote', 'play', 'he', 'person', 'award', 'nobel', 'prize', 'literatur', 'oscar', 'georg', 'bernard', 'shaw', 'born', 'syng', 'street', 'dublin', 'georg', 'carr', 'shaw', 'unsuccess', 'grain', 'merchant', 'sometim', 'civil', 'servant', 'lucinda', 'elizabeth', 'shaw', 'profession', 'singer', 'hi', 'educ', 'irregular', 'due', 'dislik', 'organ', 'train', 'when', 'shaw', 'short', 'sixteenth', 'birthday', 'mother', 'left', 'husband', 'son', 'move', 'vandeleur', 'lee', 'london', 'two', 'set', 'household', 'along', 'shaw', 'older', 'sister', 'luci', 'after', 'work', 'estat', 'agent', 'offic', 'move', 'london', 'young', 'man', 'establish', 'lead', 'music', 'theatr', 'critic', 'eighti', 'nineti', 'becam', 'promin', 'member', 'fabian', 'societi', 'compos', 'mani', 'pamphlet', 'togeth', 'beatric', 'sidney', 'webb', 'shaw', 'found', 'fabian', 'societi', 'socialist', 'polit', 'organ', 'dedic', 'transform', 'britain', 'socialist', 'state', 'revolut', 'systemat', 'progress', 'legisl', 'bolster', 'persuas', 'mass', 'educ', 'the', 'fabian', 'societi', 'would', 'later', 'instrument', 'found', 'london', 'school', 'econom', 'labour', 'parti', 'in', 'invit', 'j', 't', 'grein', 'merchant', 'theatr', 'critic', 'director', 'progress', 'privat', 'new', 'play', 'societi', 'the', 'independ', 'theatr', 'shaw', 'wrote', 'first', 'play', 'widow', 'hous', 'shaw', 'first', 'play', 'publish', 'volum', 'titl', 'play', 'unpleas', 'contain', 'widow', 'hous', 'the', 'philander', 'mr', 'warren', 'profess', 'play', 'pleasant', 'arm', 'man', 'candida', 'the', 'man', 'destini', 'you', 'never', 'can', 'tell', 'the', 'play', 'fill', 'would', 'becom', 'shaw', 'signatur', 'wit', 'accompani', 'healthi', 'dose', 'social', 'critic', 'stem', 'fabian', 'societi', 'lean', 'these', 'play', 'would', 'go', 'best', 'rememb', 'high', 'regard', 'laid', 'groundwork', 'overs', 'career', 'come', 'in', 'shaw', 'attain', 'first', 'commerci', 'success', 'american', 'premier', 'the', 'devil', 'discipl', 'enabl', 'quit', 'job', 'drama', 'critic', 'make', 'live', 'sole', 'playwright', 'in', 'seriou', 'ill', 'shaw', 'resign', 'theatr', 'critic', 'move', 'mother', 'hous', 'still', 'live', 'marri', 'charlott', 'payn', 'townsend', 'irish', 'woman', 'independ', 'mean', 'although', 'shaw', 'occasion', 'link', 'women', 'marriag', 'last', 'charlott', 'death', 'the', 'norwegian', 'playwright', 'henrik', 'ibsen', 'great', 'influenc', 'shaw', 'think', 'for', 'summer', 'meet', 'fabian', 'societi', 'wrote', 'the', 'quintess', 'ibsen', 'consid', 'ibsen', 'pioneer', 'declar', 'right', 'someth', 'hitherto', 'regard', 'infam', 'pygmalion', 'bernard', 'shaw', 'far', 'popular', 'work', 'first', 'perform', 'although', 'shaw', 'claim', 'written', 'didact', 'play', 'phonet', 'anti', 'heroic', 'protagonist', 'henri', 'higgin', 'inde', 'speech', 'profession', 'playgoer', 'saw', 'high', 'comedi', 'love', 'class', 'cockney', 'flower', 'girl', 'covent', 'garden', 'educ', 'pass', 'ladi', 'repercuss', 'experi', 'the', 'first', 'world', 'war', 'began', 'pygmalion', 'near', 'hundredth', 'sell', 'out', 'perform', 'gave', 'shaw', 'excus', 'wind', 'product', 'accord', 'one', 'lead', 'expert', 'shaw', 'stanley', 'weintraub', 'dure', 'world', 'war', 'i', 'shaw', 'anti', 'war', 'pamphlet', 'speech', 'made', 'unpopular', 'public', 'figur', 'in', 'heartbreak', 'hous', 'perform', 'expos', 'spiritu', 'bankruptci', 'gener', 'respons', 'carnag', 'next', 'came', 'back', 'methuselah', 'saint', 'joan', 'acclaim', 'led', 'receiv', 'nobel', 'prize', 'literatur', 'shaw', 'continu', 'write', 'play', 'essay', 'death', 'age', 'at', 'yovisto', 'learn', 'georg', 'bernard', 'shaw', 'educ', 'encyclopedia', 'britannica', 'product', 'shaw', 'vs', 'shakespear', 'i', 'the', 'charact', 'caesar'], ['hermann', 'kleck', 'rorschach', 'eponym', 'test', 'hermann', 'kleck', 'rorschach', 'eponym', 'test', 'the', 'tenth', 'blot', 'rorschach', 'inkblot', 'test', 'on', 'novemb', 'swiss', 'freudian', 'psychiatrist', 'psychoanalyst', 'hermann', 'rorschach', 'born', 'he', 'best', 'known', 'develop', 'project', 'test', 'known', 'rorschach', 'inkblot', 'test', 'thi', 'test', 'reportedli', 'design', 'reflect', 'unconsci', 'part', 'person', 'project', 'onto', 'stimuli', 'hermann', 'rorschach', 'born', 'zurich', 'switzerland', 'known', 'encourag', 'father', 'art', 'teacher', 'express', 'creativ', 'the', 'young', 'rorschach', 'becam', 'fascin', 'make', 'pictur', 'inkblot', 'earli', 'year', 'these', 'kind', 'pictur', 'switzerland', 'well', 'known', 'klecksographi', 'student', 'soon', 'call', 'kleck', 'classmat', 'it', 'assum', 'rorschach', 'quit', 'sure', 'topic', 'studi', 'univers', 'as', 'difficulti', 'chose', 'art', 'scienc', 'rorschach', 'ask', 'ernst', 'haeckel', 'advis', 'young', 'student', 'focu', 'scienc', 'howev', 'rorschach', 'never', 'abandon', 'art', 'complet', 'rorschach', 'attend', 'academi', 'de', 'neuchatel', 'studi', 'geolog', 'botani', 'studi', 'french', 'universit', 'de', 'dijon', 'he', 'enrol', 'univers', 'bern', 'order', 'studi', 'medicin', 'special', 'psycholog', 'he', 'complet', 'studi', 'zurich', 'berlin', 'nuremberg', 'dure', 'studi', 'rorschach', 'began', 'studi', 'psycholog', 'combin', 'imageri', 'associ', 'justinu', 'kerner', 'publish', 'book', 'poetri', 'collect', 'poem', 'inspir', 'accompani', 'inkblot', 'also', 'alfr', 'binet', 'saw', 'inkblot', 'test', 'potenti', 'measur', 'creativ', 'hermann', 'rorschach', 'notic', 'especi', 'schizophren', 'patient', 'associ', 'differ', 'thing', 'inkblot', 'other', 'thi', 'observ', 'follow', 'seri', 'experi', 'develop', 'first', 'version', 'inkblot', 'test', 'measur', 'schizophrenia', 'hi', 'test', 'came', 'use', 'late', 's', 'samuel', 'beck', 'bruno', 'klopfer', 'expand', 'origin', 'scope', 'sinc', 'psychologist', 'use', 'inkblot', 'test', 'make', 'judgement', 'broad', 'person', 'trait', 'even', 'though', 'rorschach', 'origin', 'express', 'skeptic', 'toward', 'use', 'inkblot', 'valu', 'assess', 'person', 'hermann', 'rorschach', 'could', 'live', 'see', 'develop', 'inkblot', 'test', 'he', 'die', 'suddenli', 'april', 'young', 'age', 'howev', 's', 'famou', 'rorschach', 'inkblot', 'test', 'becam', 'wide', 'use', 'especi', 'unit', 'state', 'person', 'test', 'it', 'even', 'rank', 'eighth', 'long', 'list', 'test', 'use', 'us', 'outpati', 'mental', 'health', 'care', 'up', 'day', 'inkblot', 'test', 'wide', 'critic', 'especi', 'modifi', 'sever', 'time', 'variou', 'research', 'still', 'consid', 'one', 'primari', 'test', 'use', 'hospit', 'school', 'jail', 'courtroom', 'use', 'decid', 'parent', 'custodi', 'right', 'assess', 'emot', 'issu', 'children', 'determin', 'prison', 'elig', 'parol', 'at', 'yovisto', 'may', 'interest', 'video', 'lectur', 'psycholog', 'professor', 'glenn', 'wilson', 'how', 'profil', 'killer']]\n",
      "\n",
      "Primeras 5 listas de tokens de queries:\n",
      "[['religi', 'belief', 'scientist', 'explor'], ['gutenberg', 'bibl'], ['how', 'grace', 'hopper', 'get', 'famou'], ['earli', 'telecommun', 'method'], ['south', 'america']]\n"
     ]
    }
   ],
   "source": [
    "# Mostrar las primeras 5 listas de tokens de documentos y queries\n",
    "print(\"Primeras 5 listas de tokens de documentos:\")\n",
    "print(docs_tokens[:5])\n",
    "print(\"\\nPrimeras 5 listas de tokens de queries:\")\n",
    "print(queries_tokens[:5])"
   ]
  },
  {
   "cell_type": "markdown",
   "id": "64877c52",
   "metadata": {},
   "source": [
    "Se convierten los tokens de los documentos a diccionario y corpus de Bag of Words de GENSIM."
   ]
  },
  {
   "cell_type": "code",
   "execution_count": 9,
   "id": "a67d25ee",
   "metadata": {},
   "outputs": [],
   "source": [
    "dictionary = corpora.Dictionary(docs_tokens)\n",
    "bow_corpus = [dictionary.doc2bow(doc) for doc in docs_tokens]"
   ]
  },
  {
   "cell_type": "code",
   "execution_count": 10,
   "id": "cced5d02",
   "metadata": {},
   "outputs": [],
   "source": [
    "tfidf = models.TfidfModel(bow_corpus, normalize=True)\n",
    "tfidf_corpus = tfidf[bow_corpus]"
   ]
  },
  {
   "cell_type": "code",
   "execution_count": 11,
   "id": "dd2a4e4b",
   "metadata": {},
   "outputs": [],
   "source": [
    "index = similarities.SparseMatrixSimilarity(tfidf_corpus, num_features=len(dictionary))"
   ]
  },
  {
   "cell_type": "code",
   "execution_count": 14,
   "id": "7a9ca717",
   "metadata": {},
   "outputs": [],
   "source": [
    "results = []\n",
    "for qid, q_tokens in zip(query_ids, queries_tokens):\n",
    "    query_bow = dictionary.doc2bow(q_tokens)\n",
    "    query_tfidf = tfidf[query_bow]\n",
    "    sims = index[query_tfidf]\n",
    "    sim_scores = [(doc_ids[i], sims[i]) for i in range(len(doc_ids)) if sims[i] > 0]\n",
    "    sim_scores.sort(key=lambda x: x[1], reverse=True)\n",
    "    sim_str = \",\".join([f\"{doc}:{score:.4f}\" for doc, score in sim_scores])\n",
    "    line = f\"{qid}\\t{sim_str}\"\n",
    "    results.append(line)\n",
    "\n",
    "with open(\"GENSIM-consultas_resultados.tsv\", \"w\") as f:\n",
    "    for line in results:\n",
    "        f.write(line + \"\\n\")"
   ]
  },
  {
   "cell_type": "code",
   "execution_count": 16,
   "id": "cff65c41",
   "metadata": {},
   "outputs": [
    {
     "name": "stdout",
     "output_type": "stream",
     "text": [
      "Promedio P@M: 0.6273\n",
      "Promedio R@M: 0.6273\n",
      "Promedio NDCG@M: 0.7061\n",
      "MAP: 0.7014\n"
     ]
    }
   ],
   "source": [
    "from punto1_metricas import precision_at_k, recall_at_k, ndcg_at_k, mean_average_precision\n",
    "\n",
    "# Cargar juicios de relevancia (solo dos columnas)\n",
    "relevance_df = pd.read_csv(\"relevance-judgments.tsv\", sep=\"\\t\", names=[\"query_id\", \"docs_relevance\"])\n",
    "\n",
    "# Procesar relevancia: {query_id: {doc_id: grado}}\n",
    "relevance_dict = {}\n",
    "for _, row in relevance_df.iterrows():\n",
    "    qid = row[\"query_id\"]\n",
    "    docs_str = str(row[\"docs_relevance\"])\n",
    "    docs = docs_str.split(\",\")\n",
    "    doc_rel = {}\n",
    "    for d in docs:\n",
    "        if \":\" in d:\n",
    "            doc_id, rel = d.split(\":\")\n",
    "            doc_rel[doc_id] = int(rel)\n",
    "    relevance_dict[qid] = doc_rel\n",
    "\n",
    "# Leer resultados generados por GENSIM\n",
    "with open(\"GENSIM-consultas_resultados.tsv\") as f:\n",
    "    lines = f.readlines()\n",
    "\n",
    "p_at_m_list = []\n",
    "r_at_m_list = []\n",
    "ndcg_at_m_list = []\n",
    "ap_vectors = []\n",
    "\n",
    "for line in lines:\n",
    "    query_id, docs_str = line.strip().split(\"\\t\")\n",
    "    docs_scores = [d.split(\":\") for d in docs_str.split(\",\") if \":\" in d]\n",
    "    ranked_doc_ids = [doc for doc, _ in docs_scores]\n",
    "    # Vector binario de relevancia para P@M y R@M\n",
    "    rel_vector_bin = [1 if doc in relevance_dict.get(query_id, {}) and relevance_dict[query_id][doc] > 0 else 0 for doc in ranked_doc_ids]\n",
    "    # Vector no binario para NDCG\n",
    "    rel_vector_full = [relevance_dict.get(query_id, {}).get(doc, 0) for doc in ranked_doc_ids]\n",
    "    M = len(relevance_dict.get(query_id, {}))  # Número de documentos relevantes para la consulta\n",
    "    if M == 0:\n",
    "        continue  # No hay relevantes para esta consulta\n",
    "    p_at_m = precision_at_k(rel_vector_bin, M)\n",
    "    r_at_m = recall_at_k(rel_vector_bin, M, M)\n",
    "    ndcg_at_m = ndcg_at_k(rel_vector_full, M)\n",
    "    p_at_m_list.append(p_at_m)\n",
    "    r_at_m_list.append(r_at_m)\n",
    "    ndcg_at_m_list.append(ndcg_at_m)\n",
    "    ap_vectors.append(rel_vector_bin)\n",
    "\n",
    "# MAP general\n",
    "map_score = mean_average_precision(ap_vectors)\n",
    "\n",
    "print(f\"Promedio P@M: {sum(p_at_m_list)/len(p_at_m_list):.4f}\")\n",
    "print(f\"Promedio R@M: {sum(r_at_m_list)/len(r_at_m_list):.4f}\")\n",
    "print(f\"Promedio NDCG@M: {sum(ndcg_at_m_list)/len(ndcg_at_m_list):.4f}\")\n",
    "print(f\"MAP: {map_score:.4f}\")"
   ]
  },
  {
   "cell_type": "code",
   "execution_count": null,
   "id": "d577b56c",
   "metadata": {},
   "outputs": [],
   "source": []
  }
 ],
 "metadata": {
  "kernelspec": {
   "display_name": "venv",
   "language": "python",
   "name": "python3"
  },
  "language_info": {
   "codemirror_mode": {
    "name": "ipython",
    "version": 3
   },
   "file_extension": ".py",
   "mimetype": "text/x-python",
   "name": "python",
   "nbconvert_exporter": "python",
   "pygments_lexer": "ipython3",
   "version": "3.9.12"
  }
 },
 "nbformat": 4,
 "nbformat_minor": 5
}
